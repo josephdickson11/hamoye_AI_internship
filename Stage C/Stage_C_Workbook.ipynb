{
 "cells": [
  {
   "cell_type": "code",
   "execution_count": 34,
   "metadata": {},
   "outputs": [],
   "source": [
    "import pandas as pd\n",
    "import numpy as np\n",
    "import matplotlib.pyplot as plt\n",
    "import imblearn\n",
    "import missingno as msn"
   ]
  },
  {
   "cell_type": "code",
   "execution_count": 35,
   "metadata": {},
   "outputs": [
    {
     "name": "stderr",
     "output_type": "stream",
     "text": [
      "C:\\Users\\USER\\Anaconda3\\lib\\site-packages\\IPython\\core\\interactiveshell.py:3063: DtypeWarning: Columns (6) have mixed types.Specify dtype option on import or set low_memory=False.\n",
      "  interactivity=interactivity, compiler=compiler, result=result)\n"
     ]
    }
   ],
   "source": [
    "dataset = pd.read_csv(\"./footprint-nfa-2019-edition/footprint-nfa-2019-edition/data/nfa_2019_public_data.csv\")"
   ]
  },
  {
   "cell_type": "code",
   "execution_count": 36,
   "metadata": {},
   "outputs": [
    {
     "data": {
      "text/html": [
       "<div>\n",
       "<style scoped>\n",
       "    .dataframe tbody tr th:only-of-type {\n",
       "        vertical-align: middle;\n",
       "    }\n",
       "\n",
       "    .dataframe tbody tr th {\n",
       "        vertical-align: top;\n",
       "    }\n",
       "\n",
       "    .dataframe thead th {\n",
       "        text-align: right;\n",
       "    }\n",
       "</style>\n",
       "<table border=\"1\" class=\"dataframe\">\n",
       "  <thead>\n",
       "    <tr style=\"text-align: right;\">\n",
       "      <th></th>\n",
       "      <th>country</th>\n",
       "      <th>year</th>\n",
       "      <th>country_code</th>\n",
       "      <th>record</th>\n",
       "      <th>crop_land</th>\n",
       "      <th>grazing_land</th>\n",
       "      <th>forest_land</th>\n",
       "      <th>fishing_ground</th>\n",
       "      <th>built_up_land</th>\n",
       "      <th>carbon</th>\n",
       "      <th>total</th>\n",
       "      <th>qscore</th>\n",
       "    </tr>\n",
       "  </thead>\n",
       "  <tbody>\n",
       "    <tr>\n",
       "      <th>0</th>\n",
       "      <td>Armenia</td>\n",
       "      <td>1992</td>\n",
       "      <td>1</td>\n",
       "      <td>AreaPerCap</td>\n",
       "      <td>1.402924e-01</td>\n",
       "      <td>1.995463e-01</td>\n",
       "      <td>0.097188051</td>\n",
       "      <td>3.688847e-02</td>\n",
       "      <td>2.931995e-02</td>\n",
       "      <td>0.000000e+00</td>\n",
       "      <td>5.032351e-01</td>\n",
       "      <td>3A</td>\n",
       "    </tr>\n",
       "    <tr>\n",
       "      <th>1</th>\n",
       "      <td>Armenia</td>\n",
       "      <td>1992</td>\n",
       "      <td>1</td>\n",
       "      <td>AreaTotHA</td>\n",
       "      <td>4.830000e+05</td>\n",
       "      <td>6.870000e+05</td>\n",
       "      <td>334600</td>\n",
       "      <td>1.270000e+05</td>\n",
       "      <td>1.009430e+05</td>\n",
       "      <td>0.000000e+00</td>\n",
       "      <td>1.732543e+06</td>\n",
       "      <td>3A</td>\n",
       "    </tr>\n",
       "    <tr>\n",
       "      <th>2</th>\n",
       "      <td>Armenia</td>\n",
       "      <td>1992</td>\n",
       "      <td>1</td>\n",
       "      <td>BiocapPerCap</td>\n",
       "      <td>1.598044e-01</td>\n",
       "      <td>1.352610e-01</td>\n",
       "      <td>0.084003213</td>\n",
       "      <td>1.374213e-02</td>\n",
       "      <td>3.339780e-02</td>\n",
       "      <td>0.000000e+00</td>\n",
       "      <td>4.262086e-01</td>\n",
       "      <td>3A</td>\n",
       "    </tr>\n",
       "    <tr>\n",
       "      <th>3</th>\n",
       "      <td>Armenia</td>\n",
       "      <td>1992</td>\n",
       "      <td>1</td>\n",
       "      <td>BiocapTotGHA</td>\n",
       "      <td>5.501762e+05</td>\n",
       "      <td>4.656780e+05</td>\n",
       "      <td>289207.1078</td>\n",
       "      <td>4.731155e+04</td>\n",
       "      <td>1.149823e+05</td>\n",
       "      <td>0.000000e+00</td>\n",
       "      <td>1.467355e+06</td>\n",
       "      <td>3A</td>\n",
       "    </tr>\n",
       "    <tr>\n",
       "      <th>4</th>\n",
       "      <td>Armenia</td>\n",
       "      <td>1992</td>\n",
       "      <td>1</td>\n",
       "      <td>EFConsPerCap</td>\n",
       "      <td>3.875102e-01</td>\n",
       "      <td>1.894622e-01</td>\n",
       "      <td>1.26E-06</td>\n",
       "      <td>4.164833e-03</td>\n",
       "      <td>3.339780e-02</td>\n",
       "      <td>1.114093e+00</td>\n",
       "      <td>1.728629e+00</td>\n",
       "      <td>3A</td>\n",
       "    </tr>\n",
       "    <tr>\n",
       "      <th>...</th>\n",
       "      <td>...</td>\n",
       "      <td>...</td>\n",
       "      <td>...</td>\n",
       "      <td>...</td>\n",
       "      <td>...</td>\n",
       "      <td>...</td>\n",
       "      <td>...</td>\n",
       "      <td>...</td>\n",
       "      <td>...</td>\n",
       "      <td>...</td>\n",
       "      <td>...</td>\n",
       "      <td>...</td>\n",
       "    </tr>\n",
       "    <tr>\n",
       "      <th>72181</th>\n",
       "      <td>World</td>\n",
       "      <td>2016</td>\n",
       "      <td>5001</td>\n",
       "      <td>BiocapTotGHA</td>\n",
       "      <td>3.984702e+09</td>\n",
       "      <td>1.504757e+09</td>\n",
       "      <td>5.11176e+09</td>\n",
       "      <td>1.095445e+09</td>\n",
       "      <td>4.726163e+08</td>\n",
       "      <td>0.000000e+00</td>\n",
       "      <td>1.216928e+10</td>\n",
       "      <td>3A</td>\n",
       "    </tr>\n",
       "    <tr>\n",
       "      <th>72182</th>\n",
       "      <td>World</td>\n",
       "      <td>2016</td>\n",
       "      <td>5001</td>\n",
       "      <td>EFConsPerCap</td>\n",
       "      <td>5.336445e-01</td>\n",
       "      <td>1.402092e-01</td>\n",
       "      <td>0.273495</td>\n",
       "      <td>8.974253e-02</td>\n",
       "      <td>6.329435e-02</td>\n",
       "      <td>1.646235e+00</td>\n",
       "      <td>2.746619e+00</td>\n",
       "      <td>3A</td>\n",
       "    </tr>\n",
       "    <tr>\n",
       "      <th>72183</th>\n",
       "      <td>World</td>\n",
       "      <td>2016</td>\n",
       "      <td>5001</td>\n",
       "      <td>EFConsTotGHA</td>\n",
       "      <td>3.984702e+09</td>\n",
       "      <td>1.046937e+09</td>\n",
       "      <td>2.04218e+09</td>\n",
       "      <td>6.701039e+08</td>\n",
       "      <td>4.726163e+08</td>\n",
       "      <td>1.229237e+10</td>\n",
       "      <td>2.050891e+10</td>\n",
       "      <td>3A</td>\n",
       "    </tr>\n",
       "    <tr>\n",
       "      <th>72184</th>\n",
       "      <td>World</td>\n",
       "      <td>2016</td>\n",
       "      <td>5001</td>\n",
       "      <td>EFProdPerCap</td>\n",
       "      <td>5.336445e-01</td>\n",
       "      <td>1.402092e-01</td>\n",
       "      <td>0.273495</td>\n",
       "      <td>8.974253e-02</td>\n",
       "      <td>6.329435e-02</td>\n",
       "      <td>1.646235e+00</td>\n",
       "      <td>2.746619e+00</td>\n",
       "      <td>3A</td>\n",
       "    </tr>\n",
       "    <tr>\n",
       "      <th>72185</th>\n",
       "      <td>World</td>\n",
       "      <td>2016</td>\n",
       "      <td>5001</td>\n",
       "      <td>EFProdTotGHA</td>\n",
       "      <td>3.984702e+09</td>\n",
       "      <td>1.046937e+09</td>\n",
       "      <td>2.04218e+09</td>\n",
       "      <td>6.701039e+08</td>\n",
       "      <td>4.726163e+08</td>\n",
       "      <td>1.229237e+10</td>\n",
       "      <td>2.050891e+10</td>\n",
       "      <td>3A</td>\n",
       "    </tr>\n",
       "  </tbody>\n",
       "</table>\n",
       "<p>72186 rows × 12 columns</p>\n",
       "</div>"
      ],
      "text/plain": [
       "       country  year  country_code        record     crop_land  grazing_land  \\\n",
       "0      Armenia  1992             1    AreaPerCap  1.402924e-01  1.995463e-01   \n",
       "1      Armenia  1992             1     AreaTotHA  4.830000e+05  6.870000e+05   \n",
       "2      Armenia  1992             1  BiocapPerCap  1.598044e-01  1.352610e-01   \n",
       "3      Armenia  1992             1  BiocapTotGHA  5.501762e+05  4.656780e+05   \n",
       "4      Armenia  1992             1  EFConsPerCap  3.875102e-01  1.894622e-01   \n",
       "...        ...   ...           ...           ...           ...           ...   \n",
       "72181    World  2016          5001  BiocapTotGHA  3.984702e+09  1.504757e+09   \n",
       "72182    World  2016          5001  EFConsPerCap  5.336445e-01  1.402092e-01   \n",
       "72183    World  2016          5001  EFConsTotGHA  3.984702e+09  1.046937e+09   \n",
       "72184    World  2016          5001  EFProdPerCap  5.336445e-01  1.402092e-01   \n",
       "72185    World  2016          5001  EFProdTotGHA  3.984702e+09  1.046937e+09   \n",
       "\n",
       "       forest_land  fishing_ground  built_up_land        carbon         total  \\\n",
       "0      0.097188051    3.688847e-02   2.931995e-02  0.000000e+00  5.032351e-01   \n",
       "1           334600    1.270000e+05   1.009430e+05  0.000000e+00  1.732543e+06   \n",
       "2      0.084003213    1.374213e-02   3.339780e-02  0.000000e+00  4.262086e-01   \n",
       "3      289207.1078    4.731155e+04   1.149823e+05  0.000000e+00  1.467355e+06   \n",
       "4         1.26E-06    4.164833e-03   3.339780e-02  1.114093e+00  1.728629e+00   \n",
       "...            ...             ...            ...           ...           ...   \n",
       "72181  5.11176e+09    1.095445e+09   4.726163e+08  0.000000e+00  1.216928e+10   \n",
       "72182     0.273495    8.974253e-02   6.329435e-02  1.646235e+00  2.746619e+00   \n",
       "72183  2.04218e+09    6.701039e+08   4.726163e+08  1.229237e+10  2.050891e+10   \n",
       "72184     0.273495    8.974253e-02   6.329435e-02  1.646235e+00  2.746619e+00   \n",
       "72185  2.04218e+09    6.701039e+08   4.726163e+08  1.229237e+10  2.050891e+10   \n",
       "\n",
       "      qscore  \n",
       "0         3A  \n",
       "1         3A  \n",
       "2         3A  \n",
       "3         3A  \n",
       "4         3A  \n",
       "...      ...  \n",
       "72181     3A  \n",
       "72182     3A  \n",
       "72183     3A  \n",
       "72184     3A  \n",
       "72185     3A  \n",
       "\n",
       "[72186 rows x 12 columns]"
      ]
     },
     "execution_count": 36,
     "metadata": {},
     "output_type": "execute_result"
    }
   ],
   "source": [
    "dataset"
   ]
  },
  {
   "cell_type": "code",
   "execution_count": 37,
   "metadata": {},
   "outputs": [
    {
     "data": {
      "text/plain": [
       "3A    51481\n",
       "2A    10576\n",
       "2B    10096\n",
       "1B       16\n",
       "1A       16\n",
       "Name: qscore, dtype: int64"
      ]
     },
     "execution_count": 37,
     "metadata": {},
     "output_type": "execute_result"
    }
   ],
   "source": [
    "dataset[\"qscore\"].value_counts()"
   ]
  },
  {
   "cell_type": "code",
   "execution_count": 38,
   "metadata": {},
   "outputs": [
    {
     "data": {
      "text/plain": [
       "<matplotlib.axes._subplots.AxesSubplot at 0x281ba7a5948>"
      ]
     },
     "execution_count": 38,
     "metadata": {},
     "output_type": "execute_result"
    },
    {
     "data": {
      "image/png": "[encoded data removed]",
      "text/plain": [
       "<Figure size 1800x720 with 2 Axes>"
      ]
     },
     "metadata": {
      "needs_background": "light"
     },
     "output_type": "display_data"
    }
   ],
   "source": [
    "msn.matrix(dataset)"
   ]
  },
  {
   "cell_type": "code",
   "execution_count": 39,
   "metadata": {},
   "outputs": [],
   "source": [
    "dataset = dataset.dropna()"
   ]
  },
  {
   "cell_type": "code",
   "execution_count": 40,
   "metadata": {},
   "outputs": [
    {
     "data": {
      "text/plain": [
       "<matplotlib.axes._subplots.AxesSubplot at 0x281bb0a6548>"
      ]
     },
     "execution_count": 40,
     "metadata": {},
     "output_type": "execute_result"
    },
    {
     "data": {
      "image/png": "[encoded data removed]",
      "text/plain": [
       "<Figure size 1800x720 with 2 Axes>"
      ]
     },
     "metadata": {
      "needs_background": "light"
     },
     "output_type": "display_data"
    }
   ],
   "source": [
    "msn.matrix(dataset)"
   ]
  },
  {
   "cell_type": "code",
   "execution_count": 41,
   "metadata": {},
   "outputs": [
    {
     "data": {
      "text/plain": [
       "3A    51473\n",
       "2A      224\n",
       "1A       16\n",
       "Name: qscore, dtype: int64"
      ]
     },
     "execution_count": 41,
     "metadata": {},
     "output_type": "execute_result"
    }
   ],
   "source": [
    "dataset[\"qscore\"].value_counts()"
   ]
  },
  {
   "cell_type": "code",
   "execution_count": 42,
   "metadata": {},
   "outputs": [
    {
     "name": "stderr",
     "output_type": "stream",
     "text": [
      "C:\\Users\\USER\\Anaconda3\\lib\\site-packages\\ipykernel_launcher.py:2: SettingWithCopyWarning: \n",
      "A value is trying to be set on a copy of a slice from a DataFrame.\n",
      "Try using .loc[row_indexer,col_indexer] = value instead\n",
      "\n",
      "See the caveats in the documentation: https://pandas.pydata.org/pandas-docs/stable/user_guide/indexing.html#returning-a-view-versus-a-copy\n",
      "  \n"
     ]
    }
   ],
   "source": [
    "#oversampling and undersampling\n",
    "dataset[\"qscore\"] = dataset[\"qscore\"].replace([\"1A\"], \"2A\")"
   ]
  },
  {
   "cell_type": "code",
   "execution_count": 43,
   "metadata": {},
   "outputs": [
    {
     "data": {
      "text/plain": [
       "3A    51473\n",
       "2A      240\n",
       "Name: qscore, dtype: int64"
      ]
     },
     "execution_count": 43,
     "metadata": {},
     "output_type": "execute_result"
    }
   ],
   "source": [
    "dataset[\"qscore\"].value_counts()"
   ]
  },
  {
   "cell_type": "code",
   "execution_count": 44,
   "metadata": {},
   "outputs": [],
   "source": [
    "#create two dataframes of the two different classes\n",
    "df_2A = dataset[dataset.qscore==\"2A\"]\n",
    "df_3A = dataset[dataset.qscore==\"3A\"].sample(350)\n",
    "\n",
    "#join the two different dataframes together\n",
    "data_df = df_2A.append(df_3A)"
   ]
  },
  {
   "cell_type": "code",
   "execution_count": 45,
   "metadata": {},
   "outputs": [
    {
     "data": {
      "text/plain": [
       "(590, 12)"
      ]
     },
     "execution_count": 45,
     "metadata": {},
     "output_type": "execute_result"
    }
   ],
   "source": [
    "import sklearn.utils\n",
    "data_df = data_df.reset_index(drop=True)\n",
    "data_df.shape"
   ]
  },
  {
   "cell_type": "code",
   "execution_count": 46,
   "metadata": {},
   "outputs": [
    {
     "data": {
      "text/plain": [
       "3A    350\n",
       "2A    240\n",
       "Name: qscore, dtype: int64"
      ]
     },
     "execution_count": 46,
     "metadata": {},
     "output_type": "execute_result"
    }
   ],
   "source": [
    "data_df[\"qscore\"].value_counts()"
   ]
  },
  {
   "cell_type": "code",
   "execution_count": 47,
   "metadata": {},
   "outputs": [],
   "source": [
    "#more preprocessing\n",
    "data_df = data_df.drop(columns=[\"country_code\", \"country\", \"year\"])"
   ]
  },
  {
   "cell_type": "code",
   "execution_count": 48,
   "metadata": {},
   "outputs": [
    {
     "data": {
      "text/html": [
       "<div>\n",
       "<style scoped>\n",
       "    .dataframe tbody tr th:only-of-type {\n",
       "        vertical-align: middle;\n",
       "    }\n",
       "\n",
       "    .dataframe tbody tr th {\n",
       "        vertical-align: top;\n",
       "    }\n",
       "\n",
       "    .dataframe thead th {\n",
       "        text-align: right;\n",
       "    }\n",
       "</style>\n",
       "<table border=\"1\" class=\"dataframe\">\n",
       "  <thead>\n",
       "    <tr style=\"text-align: right;\">\n",
       "      <th></th>\n",
       "      <th>record</th>\n",
       "      <th>crop_land</th>\n",
       "      <th>grazing_land</th>\n",
       "      <th>forest_land</th>\n",
       "      <th>fishing_ground</th>\n",
       "      <th>built_up_land</th>\n",
       "      <th>carbon</th>\n",
       "      <th>total</th>\n",
       "      <th>qscore</th>\n",
       "    </tr>\n",
       "  </thead>\n",
       "  <tbody>\n",
       "    <tr>\n",
       "      <th>0</th>\n",
       "      <td>AreaPerCap</td>\n",
       "      <td>2.072989e-01</td>\n",
       "      <td>8.112722e-01</td>\n",
       "      <td>0.048357265</td>\n",
       "      <td>2.258528e-02</td>\n",
       "      <td>2.998367e-02</td>\n",
       "      <td>0.000000e+00</td>\n",
       "      <td>1.119497e+00</td>\n",
       "      <td>2A</td>\n",
       "    </tr>\n",
       "    <tr>\n",
       "      <th>1</th>\n",
       "      <td>AreaTotHA</td>\n",
       "      <td>8.417600e+06</td>\n",
       "      <td>3.294260e+07</td>\n",
       "      <td>1963600</td>\n",
       "      <td>9.171000e+05</td>\n",
       "      <td>1.217520e+06</td>\n",
       "      <td>0.000000e+00</td>\n",
       "      <td>4.545842e+07</td>\n",
       "      <td>2A</td>\n",
       "    </tr>\n",
       "    <tr>\n",
       "      <th>2</th>\n",
       "      <td>BiocapPerCap</td>\n",
       "      <td>2.021916e-01</td>\n",
       "      <td>2.636077e-01</td>\n",
       "      <td>0.027166736</td>\n",
       "      <td>7.947991e-03</td>\n",
       "      <td>2.924496e-02</td>\n",
       "      <td>0.000000e+00</td>\n",
       "      <td>5.301590e-01</td>\n",
       "      <td>2A</td>\n",
       "    </tr>\n",
       "    <tr>\n",
       "      <th>3</th>\n",
       "      <td>BiocapTotGHA</td>\n",
       "      <td>8.210214e+06</td>\n",
       "      <td>1.070408e+07</td>\n",
       "      <td>1103135.245</td>\n",
       "      <td>3.227369e+05</td>\n",
       "      <td>1.187524e+06</td>\n",
       "      <td>0.000000e+00</td>\n",
       "      <td>2.152769e+07</td>\n",
       "      <td>2A</td>\n",
       "    </tr>\n",
       "    <tr>\n",
       "      <th>4</th>\n",
       "      <td>EFConsPerCap</td>\n",
       "      <td>6.280528e-01</td>\n",
       "      <td>1.810332e-01</td>\n",
       "      <td>0.162800822</td>\n",
       "      <td>1.472910e-02</td>\n",
       "      <td>2.924496e-02</td>\n",
       "      <td>1.391455e+00</td>\n",
       "      <td>2.407316e+00</td>\n",
       "      <td>2A</td>\n",
       "    </tr>\n",
       "    <tr>\n",
       "      <th>...</th>\n",
       "      <td>...</td>\n",
       "      <td>...</td>\n",
       "      <td>...</td>\n",
       "      <td>...</td>\n",
       "      <td>...</td>\n",
       "      <td>...</td>\n",
       "      <td>...</td>\n",
       "      <td>...</td>\n",
       "      <td>...</td>\n",
       "    </tr>\n",
       "    <tr>\n",
       "      <th>585</th>\n",
       "      <td>AreaTotHA</td>\n",
       "      <td>6.908132e+06</td>\n",
       "      <td>1.088918e+07</td>\n",
       "      <td>2435443.728</td>\n",
       "      <td>5.292617e+07</td>\n",
       "      <td>2.120920e+06</td>\n",
       "      <td>0.000000e+00</td>\n",
       "      <td>7.527984e+07</td>\n",
       "      <td>3A</td>\n",
       "    </tr>\n",
       "    <tr>\n",
       "      <th>586</th>\n",
       "      <td>EFConsTotGHA</td>\n",
       "      <td>6.393599e+07</td>\n",
       "      <td>7.468262e+06</td>\n",
       "      <td>22824014.03</td>\n",
       "      <td>2.602257e+06</td>\n",
       "      <td>2.511018e+06</td>\n",
       "      <td>1.331539e+08</td>\n",
       "      <td>2.324954e+08</td>\n",
       "      <td>3A</td>\n",
       "    </tr>\n",
       "    <tr>\n",
       "      <th>587</th>\n",
       "      <td>AreaTotHA</td>\n",
       "      <td>1.716514e+07</td>\n",
       "      <td>4.571710e+06</td>\n",
       "      <td>10583862.4</td>\n",
       "      <td>5.902764e+06</td>\n",
       "      <td>2.823228e+06</td>\n",
       "      <td>0.000000e+00</td>\n",
       "      <td>4.104671e+07</td>\n",
       "      <td>3A</td>\n",
       "    </tr>\n",
       "    <tr>\n",
       "      <th>588</th>\n",
       "      <td>BiocapTotGHA</td>\n",
       "      <td>7.357066e+03</td>\n",
       "      <td>0.000000e+00</td>\n",
       "      <td>479.1421776</td>\n",
       "      <td>6.227710e+05</td>\n",
       "      <td>2.281426e+04</td>\n",
       "      <td>0.000000e+00</td>\n",
       "      <td>6.534215e+05</td>\n",
       "      <td>3A</td>\n",
       "    </tr>\n",
       "    <tr>\n",
       "      <th>589</th>\n",
       "      <td>EFProdTotGHA</td>\n",
       "      <td>2.458763e+04</td>\n",
       "      <td>9.187817e+02</td>\n",
       "      <td>5674.57706</td>\n",
       "      <td>3.213279e+04</td>\n",
       "      <td>1.008830e+04</td>\n",
       "      <td>4.372621e+05</td>\n",
       "      <td>5.106642e+05</td>\n",
       "      <td>3A</td>\n",
       "    </tr>\n",
       "  </tbody>\n",
       "</table>\n",
       "<p>590 rows × 9 columns</p>\n",
       "</div>"
      ],
      "text/plain": [
       "           record     crop_land  grazing_land  forest_land  fishing_ground  \\\n",
       "0      AreaPerCap  2.072989e-01  8.112722e-01  0.048357265    2.258528e-02   \n",
       "1       AreaTotHA  8.417600e+06  3.294260e+07      1963600    9.171000e+05   \n",
       "2    BiocapPerCap  2.021916e-01  2.636077e-01  0.027166736    7.947991e-03   \n",
       "3    BiocapTotGHA  8.210214e+06  1.070408e+07  1103135.245    3.227369e+05   \n",
       "4    EFConsPerCap  6.280528e-01  1.810332e-01  0.162800822    1.472910e-02   \n",
       "..            ...           ...           ...          ...             ...   \n",
       "585     AreaTotHA  6.908132e+06  1.088918e+07  2435443.728    5.292617e+07   \n",
       "586  EFConsTotGHA  6.393599e+07  7.468262e+06  22824014.03    2.602257e+06   \n",
       "587     AreaTotHA  1.716514e+07  4.571710e+06   10583862.4    5.902764e+06   \n",
       "588  BiocapTotGHA  7.357066e+03  0.000000e+00  479.1421776    6.227710e+05   \n",
       "589  EFProdTotGHA  2.458763e+04  9.187817e+02   5674.57706    3.213279e+04   \n",
       "\n",
       "     built_up_land        carbon         total qscore  \n",
       "0     2.998367e-02  0.000000e+00  1.119497e+00     2A  \n",
       "1     1.217520e+06  0.000000e+00  4.545842e+07     2A  \n",
       "2     2.924496e-02  0.000000e+00  5.301590e-01     2A  \n",
       "3     1.187524e+06  0.000000e+00  2.152769e+07     2A  \n",
       "4     2.924496e-02  1.391455e+00  2.407316e+00     2A  \n",
       "..             ...           ...           ...    ...  \n",
       "585   2.120920e+06  0.000000e+00  7.527984e+07     3A  \n",
       "586   2.511018e+06  1.331539e+08  2.324954e+08     3A  \n",
       "587   2.823228e+06  0.000000e+00  4.104671e+07     3A  \n",
       "588   2.281426e+04  0.000000e+00  6.534215e+05     3A  \n",
       "589   1.008830e+04  4.372621e+05  5.106642e+05     3A  \n",
       "\n",
       "[590 rows x 9 columns]"
      ]
     },
     "execution_count": 48,
     "metadata": {},
     "output_type": "execute_result"
    }
   ],
   "source": [
    "data_df"
   ]
  },
  {
   "cell_type": "code",
   "execution_count": 49,
   "metadata": {},
   "outputs": [],
   "source": [
    "#create matrix of features X and y\n",
    "X = data_df.iloc[:, :-1]\n",
    "y = data_df.iloc[:, -1]"
   ]
  },
  {
   "cell_type": "code",
   "execution_count": 50,
   "metadata": {},
   "outputs": [],
   "source": [
    "#make train and test sets\n",
    "from sklearn.model_selection import train_test_split\n",
    "X_train, X_test, y_train, y_test = train_test_split(X, y, test_size=0.3, random_state = 0)"
   ]
  },
  {
   "cell_type": "code",
   "execution_count": 51,
   "metadata": {},
   "outputs": [
    {
     "data": {
      "text/plain": [
       "3A    237\n",
       "2A    176\n",
       "Name: qscore, dtype: int64"
      ]
     },
     "execution_count": 51,
     "metadata": {},
     "output_type": "execute_result"
    }
   ],
   "source": [
    "y_train.value_counts()"
   ]
  },
  {
   "cell_type": "code",
   "execution_count": 52,
   "metadata": {},
   "outputs": [
    {
     "name": "stderr",
     "output_type": "stream",
     "text": [
      "C:\\Users\\USER\\Anaconda3\\lib\\site-packages\\pandas\\core\\generic.py:5303: SettingWithCopyWarning: \n",
      "A value is trying to be set on a copy of a slice from a DataFrame.\n",
      "Try using .loc[row_indexer,col_indexer] = value instead\n",
      "\n",
      "See the caveats in the documentation: https://pandas.pydata.org/pandas-docs/stable/user_guide/indexing.html#returning-a-view-versus-a-copy\n",
      "  self[name] = value\n"
     ]
    }
   ],
   "source": [
    "#encoding categorical variables\n",
    "#from sklearn.preprocessing import LabelEncoder\n",
    "#encoder = LabelEncoder()\n",
    "#X_train.record = encoder.fit_transform(X_train.record)\n",
    "#X_test.record = encoder.transform(X_test.record)"
   ]
  },
  {
   "cell_type": "code",
   "execution_count": 53,
   "metadata": {},
   "outputs": [],
   "source": [
    "from imblearn.over_sampling import SMOTE\n",
    "smote = SMOTE(random_state=1)\n",
    "X_train_balanced, y_train_balanced = smote.fit_sample(X_train, y_train)"
   ]
  },
  {
   "cell_type": "code",
   "execution_count": 54,
   "metadata": {},
   "outputs": [
    {
     "data": {
      "text/html": [
       "<div>\n",
       "<style scoped>\n",
       "    .dataframe tbody tr th:only-of-type {\n",
       "        vertical-align: middle;\n",
       "    }\n",
       "\n",
       "    .dataframe tbody tr th {\n",
       "        vertical-align: top;\n",
       "    }\n",
       "\n",
       "    .dataframe thead th {\n",
       "        text-align: right;\n",
       "    }\n",
       "</style>\n",
       "<table border=\"1\" class=\"dataframe\">\n",
       "  <thead>\n",
       "    <tr style=\"text-align: right;\">\n",
       "      <th></th>\n",
       "      <th>record</th>\n",
       "      <th>crop_land</th>\n",
       "      <th>grazing_land</th>\n",
       "      <th>forest_land</th>\n",
       "      <th>fishing_ground</th>\n",
       "      <th>built_up_land</th>\n",
       "      <th>carbon</th>\n",
       "      <th>total</th>\n",
       "    </tr>\n",
       "  </thead>\n",
       "  <tbody>\n",
       "    <tr>\n",
       "      <th>0</th>\n",
       "      <td>6</td>\n",
       "      <td>2.422341e-01</td>\n",
       "      <td>5.043183e-03</td>\n",
       "      <td>0.109805</td>\n",
       "      <td>6.923616e-03</td>\n",
       "      <td>0.039218</td>\n",
       "      <td>3.983781e-02</td>\n",
       "      <td>4.430611e-01</td>\n",
       "    </tr>\n",
       "    <tr>\n",
       "      <th>1</th>\n",
       "      <td>1</td>\n",
       "      <td>1.033733e+06</td>\n",
       "      <td>3.930115e+06</td>\n",
       "      <td>761965</td>\n",
       "      <td>1.352179e+07</td>\n",
       "      <td>176644.354400</td>\n",
       "      <td>0.000000e+00</td>\n",
       "      <td>1.942425e+07</td>\n",
       "    </tr>\n",
       "    <tr>\n",
       "      <th>2</th>\n",
       "      <td>2</td>\n",
       "      <td>6.481887e-01</td>\n",
       "      <td>6.128688e-03</td>\n",
       "      <td>2.03714</td>\n",
       "      <td>1.109850e+00</td>\n",
       "      <td>0.244831</td>\n",
       "      <td>0.000000e+00</td>\n",
       "      <td>4.046137e+00</td>\n",
       "    </tr>\n",
       "    <tr>\n",
       "      <th>3</th>\n",
       "      <td>4</td>\n",
       "      <td>4.707138e-01</td>\n",
       "      <td>1.406805e-01</td>\n",
       "      <td>0.714856</td>\n",
       "      <td>1.706471e-01</td>\n",
       "      <td>0.035655</td>\n",
       "      <td>7.590210e-01</td>\n",
       "      <td>2.291574e+00</td>\n",
       "    </tr>\n",
       "    <tr>\n",
       "      <th>4</th>\n",
       "      <td>6</td>\n",
       "      <td>2.829950e-01</td>\n",
       "      <td>1.286783e-01</td>\n",
       "      <td>0.00393865</td>\n",
       "      <td>1.999000e-04</td>\n",
       "      <td>0.094462</td>\n",
       "      <td>2.141098e-01</td>\n",
       "      <td>7.243837e-01</td>\n",
       "    </tr>\n",
       "    <tr>\n",
       "      <th>...</th>\n",
       "      <td>...</td>\n",
       "      <td>...</td>\n",
       "      <td>...</td>\n",
       "      <td>...</td>\n",
       "      <td>...</td>\n",
       "      <td>...</td>\n",
       "      <td>...</td>\n",
       "      <td>...</td>\n",
       "    </tr>\n",
       "    <tr>\n",
       "      <th>469</th>\n",
       "      <td>4</td>\n",
       "      <td>1.474368e+06</td>\n",
       "      <td>5.650665e+06</td>\n",
       "      <td>839456</td>\n",
       "      <td>3.020954e+05</td>\n",
       "      <td>198569.587655</td>\n",
       "      <td>1.626954e+06</td>\n",
       "      <td>1.009211e+07</td>\n",
       "    </tr>\n",
       "    <tr>\n",
       "      <th>470</th>\n",
       "      <td>4</td>\n",
       "      <td>4.537129e-01</td>\n",
       "      <td>2.040420e-01</td>\n",
       "      <td>0.144776</td>\n",
       "      <td>5.113343e-02</td>\n",
       "      <td>0.039136</td>\n",
       "      <td>1.069015e+00</td>\n",
       "      <td>1.961816e+00</td>\n",
       "    </tr>\n",
       "    <tr>\n",
       "      <th>471</th>\n",
       "      <td>1</td>\n",
       "      <td>5.136529e+05</td>\n",
       "      <td>2.101287e+06</td>\n",
       "      <td>3.53109e+06</td>\n",
       "      <td>5.274143e+05</td>\n",
       "      <td>147166.014827</td>\n",
       "      <td>0.000000e+00</td>\n",
       "      <td>6.820606e+06</td>\n",
       "    </tr>\n",
       "    <tr>\n",
       "      <th>472</th>\n",
       "      <td>3</td>\n",
       "      <td>6.463625e+06</td>\n",
       "      <td>1.195063e+07</td>\n",
       "      <td>929586</td>\n",
       "      <td>2.490275e+05</td>\n",
       "      <td>957459.350868</td>\n",
       "      <td>1.420242e+06</td>\n",
       "      <td>2.197057e+07</td>\n",
       "    </tr>\n",
       "    <tr>\n",
       "      <th>473</th>\n",
       "      <td>6</td>\n",
       "      <td>1.577022e+05</td>\n",
       "      <td>5.376629e+04</td>\n",
       "      <td>59737.2</td>\n",
       "      <td>1.234468e+04</td>\n",
       "      <td>34621.397596</td>\n",
       "      <td>2.418607e+05</td>\n",
       "      <td>5.600325e+05</td>\n",
       "    </tr>\n",
       "  </tbody>\n",
       "</table>\n",
       "<p>474 rows × 8 columns</p>\n",
       "</div>"
      ],
      "text/plain": [
       "     record     crop_land  grazing_land  forest_land  fishing_ground  \\\n",
       "0         6  2.422341e-01  5.043183e-03     0.109805    6.923616e-03   \n",
       "1         1  1.033733e+06  3.930115e+06       761965    1.352179e+07   \n",
       "2         2  6.481887e-01  6.128688e-03      2.03714    1.109850e+00   \n",
       "3         4  4.707138e-01  1.406805e-01     0.714856    1.706471e-01   \n",
       "4         6  2.829950e-01  1.286783e-01   0.00393865    1.999000e-04   \n",
       "..      ...           ...           ...          ...             ...   \n",
       "469       4  1.474368e+06  5.650665e+06       839456    3.020954e+05   \n",
       "470       4  4.537129e-01  2.040420e-01     0.144776    5.113343e-02   \n",
       "471       1  5.136529e+05  2.101287e+06  3.53109e+06    5.274143e+05   \n",
       "472       3  6.463625e+06  1.195063e+07       929586    2.490275e+05   \n",
       "473       6  1.577022e+05  5.376629e+04      59737.2    1.234468e+04   \n",
       "\n",
       "     built_up_land        carbon         total  \n",
       "0         0.039218  3.983781e-02  4.430611e-01  \n",
       "1    176644.354400  0.000000e+00  1.942425e+07  \n",
       "2         0.244831  0.000000e+00  4.046137e+00  \n",
       "3         0.035655  7.590210e-01  2.291574e+00  \n",
       "4         0.094462  2.141098e-01  7.243837e-01  \n",
       "..             ...           ...           ...  \n",
       "469  198569.587655  1.626954e+06  1.009211e+07  \n",
       "470       0.039136  1.069015e+00  1.961816e+00  \n",
       "471  147166.014827  0.000000e+00  6.820606e+06  \n",
       "472  957459.350868  1.420242e+06  2.197057e+07  \n",
       "473   34621.397596  2.418607e+05  5.600325e+05  \n",
       "\n",
       "[474 rows x 8 columns]"
      ]
     },
     "execution_count": 54,
     "metadata": {},
     "output_type": "execute_result"
    }
   ],
   "source": [
    "X_train_balanced"
   ]
  },
  {
   "cell_type": "code",
   "execution_count": 63,
   "metadata": {},
   "outputs": [
    {
     "data": {
      "text/plain": [
       "0      3A\n",
       "1      2A\n",
       "2      2A\n",
       "3      2A\n",
       "4      2A\n",
       "       ..\n",
       "469    2A\n",
       "470    2A\n",
       "471    2A\n",
       "472    2A\n",
       "473    2A\n",
       "Name: qscore, Length: 474, dtype: object"
      ]
     },
     "execution_count": 63,
     "metadata": {},
     "output_type": "execute_result"
    }
   ],
   "source": [
    "y_train_balanced"
   ]
  },
  {
   "cell_type": "code",
   "execution_count": 55,
   "metadata": {},
   "outputs": [],
   "source": [
    "from sklearn.preprocessing import MinMaxScaler\n",
    "scaler = MinMaxScaler()\n",
    "normalised_train_df = scaler.fit_transform(X_train_balanced.drop(columns=['record']))\n",
    "normalised_train_df = pd.DataFrame(normalised_train_df, columns=X_train_balanced.drop(columns=['record']).columns)\n",
    "normalised_train_df['record'] = X_train_balanced['record']"
   ]
  },
  {
   "cell_type": "code",
   "execution_count": 56,
   "metadata": {},
   "outputs": [
    {
     "data": {
      "text/html": [
       "<div>\n",
       "<style scoped>\n",
       "    .dataframe tbody tr th:only-of-type {\n",
       "        vertical-align: middle;\n",
       "    }\n",
       "\n",
       "    .dataframe tbody tr th {\n",
       "        vertical-align: top;\n",
       "    }\n",
       "\n",
       "    .dataframe thead th {\n",
       "        text-align: right;\n",
       "    }\n",
       "</style>\n",
       "<table border=\"1\" class=\"dataframe\">\n",
       "  <thead>\n",
       "    <tr style=\"text-align: right;\">\n",
       "      <th></th>\n",
       "      <th>crop_land</th>\n",
       "      <th>grazing_land</th>\n",
       "      <th>forest_land</th>\n",
       "      <th>fishing_ground</th>\n",
       "      <th>built_up_land</th>\n",
       "      <th>carbon</th>\n",
       "      <th>total</th>\n",
       "      <th>record</th>\n",
       "    </tr>\n",
       "  </thead>\n",
       "  <tbody>\n",
       "    <tr>\n",
       "      <th>0</th>\n",
       "      <td>7.495449e-10</td>\n",
       "      <td>1.914211e-11</td>\n",
       "      <td>3.673827e-10</td>\n",
       "      <td>2.727906e-11</td>\n",
       "      <td>1.103984e-09</td>\n",
       "      <td>8.419452e-11</td>\n",
       "      <td>4.106128e-10</td>\n",
       "      <td>6</td>\n",
       "    </tr>\n",
       "    <tr>\n",
       "      <th>1</th>\n",
       "      <td>3.210576e-03</td>\n",
       "      <td>1.491730e-02</td>\n",
       "      <td>2.549368e-03</td>\n",
       "      <td>5.327587e-02</td>\n",
       "      <td>4.972573e-03</td>\n",
       "      <td>0.000000e+00</td>\n",
       "      <td>1.965037e-02</td>\n",
       "      <td>1</td>\n",
       "    </tr>\n",
       "    <tr>\n",
       "      <th>2</th>\n",
       "      <td>2.010362e-09</td>\n",
       "      <td>2.326230e-11</td>\n",
       "      <td>6.815822e-09</td>\n",
       "      <td>4.372809e-09</td>\n",
       "      <td>6.892047e-09</td>\n",
       "      <td>0.000000e+00</td>\n",
       "      <td>4.055633e-09</td>\n",
       "      <td>2</td>\n",
       "    </tr>\n",
       "    <tr>\n",
       "      <th>3</th>\n",
       "      <td>1.459159e-09</td>\n",
       "      <td>5.339725e-10</td>\n",
       "      <td>2.391753e-09</td>\n",
       "      <td>6.723500e-10</td>\n",
       "      <td>1.003703e-09</td>\n",
       "      <td>1.604140e-09</td>\n",
       "      <td>2.280645e-09</td>\n",
       "      <td>4</td>\n",
       "    </tr>\n",
       "    <tr>\n",
       "      <th>4</th>\n",
       "      <td>8.761406e-10</td>\n",
       "      <td>4.884167e-10</td>\n",
       "      <td>1.317787e-11</td>\n",
       "      <td>7.876063e-13</td>\n",
       "      <td>2.659123e-09</td>\n",
       "      <td>4.525067e-10</td>\n",
       "      <td>6.952104e-10</td>\n",
       "      <td>6</td>\n",
       "    </tr>\n",
       "    <tr>\n",
       "      <th>...</th>\n",
       "      <td>...</td>\n",
       "      <td>...</td>\n",
       "      <td>...</td>\n",
       "      <td>...</td>\n",
       "      <td>...</td>\n",
       "      <td>...</td>\n",
       "      <td>...</td>\n",
       "      <td>...</td>\n",
       "    </tr>\n",
       "    <tr>\n",
       "      <th>469</th>\n",
       "      <td>4.579105e-03</td>\n",
       "      <td>2.144789e-02</td>\n",
       "      <td>2.808636e-03</td>\n",
       "      <td>1.190256e-03</td>\n",
       "      <td>5.589772e-03</td>\n",
       "      <td>3.438458e-03</td>\n",
       "      <td>1.020959e-02</td>\n",
       "      <td>4</td>\n",
       "    </tr>\n",
       "    <tr>\n",
       "      <th>470</th>\n",
       "      <td>1.406357e-09</td>\n",
       "      <td>7.744703e-10</td>\n",
       "      <td>4.843886e-10</td>\n",
       "      <td>2.014658e-10</td>\n",
       "      <td>1.101685e-09</td>\n",
       "      <td>2.259292e-09</td>\n",
       "      <td>1.947047e-09</td>\n",
       "      <td>4</td>\n",
       "    </tr>\n",
       "    <tr>\n",
       "      <th>471</th>\n",
       "      <td>1.595308e-03</td>\n",
       "      <td>7.975732e-03</td>\n",
       "      <td>1.181424e-02</td>\n",
       "      <td>2.078013e-03</td>\n",
       "      <td>4.142752e-03</td>\n",
       "      <td>0.000000e+00</td>\n",
       "      <td>6.900006e-03</td>\n",
       "      <td>1</td>\n",
       "    </tr>\n",
       "    <tr>\n",
       "      <th>472</th>\n",
       "      <td>2.007478e-02</td>\n",
       "      <td>4.536030e-02</td>\n",
       "      <td>3.110193e-03</td>\n",
       "      <td>9.811687e-04</td>\n",
       "      <td>2.695267e-02</td>\n",
       "      <td>3.001586e-03</td>\n",
       "      <td>2.222633e-02</td>\n",
       "      <td>3</td>\n",
       "    </tr>\n",
       "    <tr>\n",
       "      <th>473</th>\n",
       "      <td>4.897928e-04</td>\n",
       "      <td>2.040775e-04</td>\n",
       "      <td>1.998678e-04</td>\n",
       "      <td>4.863804e-05</td>\n",
       "      <td>9.745990e-04</td>\n",
       "      <td>5.111562e-04</td>\n",
       "      <td>5.665519e-04</td>\n",
       "      <td>6</td>\n",
       "    </tr>\n",
       "  </tbody>\n",
       "</table>\n",
       "<p>474 rows × 8 columns</p>\n",
       "</div>"
      ],
      "text/plain": [
       "        crop_land  grazing_land   forest_land  fishing_ground  built_up_land  \\\n",
       "0    7.495449e-10  1.914211e-11  3.673827e-10    2.727906e-11   1.103984e-09   \n",
       "1    3.210576e-03  1.491730e-02  2.549368e-03    5.327587e-02   4.972573e-03   \n",
       "2    2.010362e-09  2.326230e-11  6.815822e-09    4.372809e-09   6.892047e-09   \n",
       "3    1.459159e-09  5.339725e-10  2.391753e-09    6.723500e-10   1.003703e-09   \n",
       "4    8.761406e-10  4.884167e-10  1.317787e-11    7.876063e-13   2.659123e-09   \n",
       "..            ...           ...           ...             ...            ...   \n",
       "469  4.579105e-03  2.144789e-02  2.808636e-03    1.190256e-03   5.589772e-03   \n",
       "470  1.406357e-09  7.744703e-10  4.843886e-10    2.014658e-10   1.101685e-09   \n",
       "471  1.595308e-03  7.975732e-03  1.181424e-02    2.078013e-03   4.142752e-03   \n",
       "472  2.007478e-02  4.536030e-02  3.110193e-03    9.811687e-04   2.695267e-02   \n",
       "473  4.897928e-04  2.040775e-04  1.998678e-04    4.863804e-05   9.745990e-04   \n",
       "\n",
       "           carbon         total  record  \n",
       "0    8.419452e-11  4.106128e-10       6  \n",
       "1    0.000000e+00  1.965037e-02       1  \n",
       "2    0.000000e+00  4.055633e-09       2  \n",
       "3    1.604140e-09  2.280645e-09       4  \n",
       "4    4.525067e-10  6.952104e-10       6  \n",
       "..            ...           ...     ...  \n",
       "469  3.438458e-03  1.020959e-02       4  \n",
       "470  2.259292e-09  1.947047e-09       4  \n",
       "471  0.000000e+00  6.900006e-03       1  \n",
       "472  3.001586e-03  2.222633e-02       3  \n",
       "473  5.111562e-04  5.665519e-04       6  \n",
       "\n",
       "[474 rows x 8 columns]"
      ]
     },
     "execution_count": 56,
     "metadata": {},
     "output_type": "execute_result"
    }
   ],
   "source": [
    "normalised_train_df"
   ]
  },
  {
   "cell_type": "code",
   "execution_count": 57,
   "metadata": {},
   "outputs": [],
   "source": [
    "X_test = X_test.reset_index(drop=True)\n",
    "normalised_test_df = scaler.transform(X_test.drop(columns=['record']))\n",
    "normalised_test_df = pd.DataFrame(normalised_test_df, columns=X_test.drop(columns=['record']).columns)\n",
    "normalised_test_df['record'] = X_test['record']"
   ]
  },
  {
   "cell_type": "code",
   "execution_count": 58,
   "metadata": {},
   "outputs": [
    {
     "data": {
      "text/plain": [
       "LogisticRegression()"
      ]
     },
     "execution_count": 58,
     "metadata": {},
     "output_type": "execute_result"
    }
   ],
   "source": [
    "#Logistic Regression\n",
    "from sklearn.linear_model import LogisticRegression\n",
    "log_reg = LogisticRegression()\n",
    "log_reg.fit(normalised_train_df, y_train_balanced)"
   ]
  },
  {
   "cell_type": "code",
   "execution_count": 73,
   "metadata": {},
   "outputs": [
    {
     "data": {
      "text/plain": [
       "{'C': 1.0,\n",
       " 'class_weight': None,\n",
       " 'dual': False,\n",
       " 'fit_intercept': True,\n",
       " 'intercept_scaling': 1,\n",
       " 'l1_ratio': None,\n",
       " 'max_iter': 100,\n",
       " 'multi_class': 'auto',\n",
       " 'n_jobs': None,\n",
       " 'penalty': 'l2',\n",
       " 'random_state': None,\n",
       " 'solver': 'lbfgs',\n",
       " 'tol': 0.0001,\n",
       " 'verbose': 0,\n",
       " 'warm_start': False}"
      ]
     },
     "execution_count": 73,
     "metadata": {},
     "output_type": "execute_result"
    }
   ],
   "source": [
    "log_reg.get_params()"
   ]
  },
  {
   "cell_type": "code",
   "execution_count": 59,
   "metadata": {},
   "outputs": [
    {
     "data": {
      "text/plain": [
       "array([0.56501832, 0.4797619 , 0.47843137, 0.55548128, 0.47009804])"
      ]
     },
     "execution_count": 59,
     "metadata": {},
     "output_type": "execute_result"
    }
   ],
   "source": [
    "from sklearn.model_selection import cross_val_score\n",
    "scores = cross_val_score(log_reg, normalised_train_df, y_train_balanced, cv=5, scoring='f1_macro')\n",
    "scores "
   ]
  },
  {
   "cell_type": "code",
   "execution_count": 77,
   "metadata": {},
   "outputs": [],
   "source": [
    "from sklearn.model_selection import KFold\n",
    "F1_score = []\n",
    "kf = KFold(n_splits=5)\n"
   ]
  },
  {
   "cell_type": "code",
   "execution_count": 98,
   "metadata": {},
   "outputs": [
    {
     "data": {
      "text/plain": [
       "[63.793103448275865,\n",
       " 55.932203389830505,\n",
       " 58.71559633027523,\n",
       " 59.82905982905984,\n",
       " 0.0,\n",
       " 63.793103448275865,\n",
       " 55.932203389830505,\n",
       " 58.71559633027523,\n",
       " 59.82905982905984,\n",
       " 0.0]"
      ]
     },
     "execution_count": 98,
     "metadata": {},
     "output_type": "execute_result"
    }
   ],
   "source": [
    "#run for every split\n",
    "from sklearn.metrics import f1_score\n",
    "for train_index, test_index in kf.split(normalised_train_df):\n",
    "    X_train, X_test = normalised_train_df.iloc[train_index], normalised_train_df.iloc[test_index]\n",
    "    y_train, y_test = y_train_balanced[train_index], y_train_balanced[test_index]\n",
    "    model = LogisticRegression().fit(X_train, y_train)\n",
    "    #save result to list\n",
    "    F1_score.append(f1_score(y_true=y_test, y_pred=model.predict(X_test),\n",
    "                              pos_label='2A')*100)\n",
    "F1_score"
   ]
  },
  {
   "cell_type": "code",
   "execution_count": 99,
   "metadata": {},
   "outputs": [
    {
     "data": {
      "text/plain": [
       "[0.6666666666666667,\n",
       " 0.5979381443298969,\n",
       " 0.6341463414634146,\n",
       " 0.5523809523809524,\n",
       " 0.509433962264151]"
      ]
     },
     "execution_count": 99,
     "metadata": {},
     "output_type": "execute_result"
    }
   ],
   "source": [
    "#stratified kfold \n",
    "from sklearn.model_selection import StratifiedKFold\n",
    "skf = StratifiedKFold(n_splits=5, shuffle=True, random_state=1)\n",
    "f1_scores = []\n",
    "#run for every split\n",
    "for train_index, test_index in skf.split(normalised_train_df, y_train_balanced):\n",
    "    X_train, X_test = np.array(normalised_train_df)[train_index], np.array(normalised_train_df)[test_index]\n",
    "    y_train, y_test  = y_train_balanced[train_index], y_train_balanced[test_index]\n",
    "    model = LogisticRegression().fit(X_train, y_train)\n",
    "    #save result to list\n",
    "    f1_scores.append(f1_score(y_true=y_test, y_pred=model.predict(X_test), pos_label='2A'))\n",
    "f1_scores"
   ]
  },
  {
   "cell_type": "code",
   "execution_count": null,
   "metadata": {},
   "outputs": [],
   "source": []
  },
  {
   "cell_type": "code",
   "execution_count": 84,
   "metadata": {},
   "outputs": [],
   "source": [
    "#leave one out \n",
    "from sklearn.model_selection import LeaveOneOut\n",
    "loo = LeaveOneOut()\n",
    "scores = cross_val_score(LogisticRegression(), normalised_train_df, y_train_balanced, cv=loo, \n",
    "                         scoring='f1_macro')\n",
    "average_score = scores.mean() * 100"
   ]
  },
  {
   "cell_type": "markdown",
   "metadata": {},
   "source": [
    "## evaluation metrics"
   ]
  },
  {
   "cell_type": "code",
   "execution_count": 86,
   "metadata": {},
   "outputs": [
    {
     "ename": "ValueError",
     "evalue": "Found input variables with inconsistent numbers of samples: [94, 177]",
     "output_type": "error",
     "traceback": [
      "\u001b[1;31m---------------------------------------------------------------------------\u001b[0m",
      "\u001b[1;31mValueError\u001b[0m                                Traceback (most recent call last)",
      "\u001b[1;32m<ipython-input-86-d995d86b6ea7>\u001b[0m in \u001b[0;36m<module>\u001b[1;34m\u001b[0m\n\u001b[0;32m      4\u001b[0m \u001b[1;33m\u001b[0m\u001b[0m\n\u001b[0;32m      5\u001b[0m \u001b[0mnew_predictions\u001b[0m \u001b[1;33m=\u001b[0m \u001b[0mlog_reg\u001b[0m\u001b[1;33m.\u001b[0m\u001b[0mpredict\u001b[0m\u001b[1;33m(\u001b[0m\u001b[0mnormalised_test_df\u001b[0m\u001b[1;33m)\u001b[0m\u001b[1;33m\u001b[0m\u001b[1;33m\u001b[0m\u001b[0m\n\u001b[1;32m----> 6\u001b[1;33m \u001b[0mcm\u001b[0m \u001b[1;33m=\u001b[0m \u001b[0mconfusion_matrix\u001b[0m\u001b[1;33m(\u001b[0m\u001b[0my_true\u001b[0m\u001b[1;33m=\u001b[0m\u001b[0my_test\u001b[0m\u001b[1;33m,\u001b[0m \u001b[0my_pred\u001b[0m\u001b[1;33m=\u001b[0m\u001b[0mnew_predictions\u001b[0m\u001b[1;33m,\u001b[0m \u001b[0mlabels\u001b[0m\u001b[1;33m=\u001b[0m\u001b[1;33m[\u001b[0m\u001b[1;34m\"2A\"\u001b[0m\u001b[1;33m,\u001b[0m \u001b[1;34m\"3A\"\u001b[0m\u001b[1;33m]\u001b[0m\u001b[1;33m)\u001b[0m\u001b[1;33m\u001b[0m\u001b[1;33m\u001b[0m\u001b[0m\n\u001b[0m\u001b[0;32m      7\u001b[0m \u001b[0mcm\u001b[0m\u001b[1;33m\u001b[0m\u001b[1;33m\u001b[0m\u001b[0m\n",
      "\u001b[1;32m~\\Anaconda3\\lib\\site-packages\\sklearn\\utils\\validation.py\u001b[0m in \u001b[0;36minner_f\u001b[1;34m(*args, **kwargs)\u001b[0m\n\u001b[0;32m     71\u001b[0m                           FutureWarning)\n\u001b[0;32m     72\u001b[0m         \u001b[0mkwargs\u001b[0m\u001b[1;33m.\u001b[0m\u001b[0mupdate\u001b[0m\u001b[1;33m(\u001b[0m\u001b[1;33m{\u001b[0m\u001b[0mk\u001b[0m\u001b[1;33m:\u001b[0m \u001b[0marg\u001b[0m \u001b[1;32mfor\u001b[0m \u001b[0mk\u001b[0m\u001b[1;33m,\u001b[0m \u001b[0marg\u001b[0m \u001b[1;32min\u001b[0m \u001b[0mzip\u001b[0m\u001b[1;33m(\u001b[0m\u001b[0msig\u001b[0m\u001b[1;33m.\u001b[0m\u001b[0mparameters\u001b[0m\u001b[1;33m,\u001b[0m \u001b[0margs\u001b[0m\u001b[1;33m)\u001b[0m\u001b[1;33m}\u001b[0m\u001b[1;33m)\u001b[0m\u001b[1;33m\u001b[0m\u001b[1;33m\u001b[0m\u001b[0m\n\u001b[1;32m---> 73\u001b[1;33m         \u001b[1;32mreturn\u001b[0m \u001b[0mf\u001b[0m\u001b[1;33m(\u001b[0m\u001b[1;33m**\u001b[0m\u001b[0mkwargs\u001b[0m\u001b[1;33m)\u001b[0m\u001b[1;33m\u001b[0m\u001b[1;33m\u001b[0m\u001b[0m\n\u001b[0m\u001b[0;32m     74\u001b[0m     \u001b[1;32mreturn\u001b[0m \u001b[0minner_f\u001b[0m\u001b[1;33m\u001b[0m\u001b[1;33m\u001b[0m\u001b[0m\n\u001b[0;32m     75\u001b[0m \u001b[1;33m\u001b[0m\u001b[0m\n",
      "\u001b[1;32m~\\Anaconda3\\lib\\site-packages\\sklearn\\metrics\\_classification.py\u001b[0m in \u001b[0;36mconfusion_matrix\u001b[1;34m(y_true, y_pred, labels, sample_weight, normalize)\u001b[0m\n\u001b[0;32m    274\u001b[0m \u001b[1;33m\u001b[0m\u001b[0m\n\u001b[0;32m    275\u001b[0m     \"\"\"\n\u001b[1;32m--> 276\u001b[1;33m     \u001b[0my_type\u001b[0m\u001b[1;33m,\u001b[0m \u001b[0my_true\u001b[0m\u001b[1;33m,\u001b[0m \u001b[0my_pred\u001b[0m \u001b[1;33m=\u001b[0m \u001b[0m_check_targets\u001b[0m\u001b[1;33m(\u001b[0m\u001b[0my_true\u001b[0m\u001b[1;33m,\u001b[0m \u001b[0my_pred\u001b[0m\u001b[1;33m)\u001b[0m\u001b[1;33m\u001b[0m\u001b[1;33m\u001b[0m\u001b[0m\n\u001b[0m\u001b[0;32m    277\u001b[0m     \u001b[1;32mif\u001b[0m \u001b[0my_type\u001b[0m \u001b[1;32mnot\u001b[0m \u001b[1;32min\u001b[0m \u001b[1;33m(\u001b[0m\u001b[1;34m\"binary\"\u001b[0m\u001b[1;33m,\u001b[0m \u001b[1;34m\"multiclass\"\u001b[0m\u001b[1;33m)\u001b[0m\u001b[1;33m:\u001b[0m\u001b[1;33m\u001b[0m\u001b[1;33m\u001b[0m\u001b[0m\n\u001b[0;32m    278\u001b[0m         \u001b[1;32mraise\u001b[0m \u001b[0mValueError\u001b[0m\u001b[1;33m(\u001b[0m\u001b[1;34m\"%s is not supported\"\u001b[0m \u001b[1;33m%\u001b[0m \u001b[0my_type\u001b[0m\u001b[1;33m)\u001b[0m\u001b[1;33m\u001b[0m\u001b[1;33m\u001b[0m\u001b[0m\n",
      "\u001b[1;32m~\\Anaconda3\\lib\\site-packages\\sklearn\\metrics\\_classification.py\u001b[0m in \u001b[0;36m_check_targets\u001b[1;34m(y_true, y_pred)\u001b[0m\n\u001b[0;32m     79\u001b[0m     \u001b[0my_pred\u001b[0m \u001b[1;33m:\u001b[0m \u001b[0marray\u001b[0m \u001b[1;32mor\u001b[0m \u001b[0mindicator\u001b[0m \u001b[0mmatrix\u001b[0m\u001b[1;33m\u001b[0m\u001b[1;33m\u001b[0m\u001b[0m\n\u001b[0;32m     80\u001b[0m     \"\"\"\n\u001b[1;32m---> 81\u001b[1;33m     \u001b[0mcheck_consistent_length\u001b[0m\u001b[1;33m(\u001b[0m\u001b[0my_true\u001b[0m\u001b[1;33m,\u001b[0m \u001b[0my_pred\u001b[0m\u001b[1;33m)\u001b[0m\u001b[1;33m\u001b[0m\u001b[1;33m\u001b[0m\u001b[0m\n\u001b[0m\u001b[0;32m     82\u001b[0m     \u001b[0mtype_true\u001b[0m \u001b[1;33m=\u001b[0m \u001b[0mtype_of_target\u001b[0m\u001b[1;33m(\u001b[0m\u001b[0my_true\u001b[0m\u001b[1;33m)\u001b[0m\u001b[1;33m\u001b[0m\u001b[1;33m\u001b[0m\u001b[0m\n\u001b[0;32m     83\u001b[0m     \u001b[0mtype_pred\u001b[0m \u001b[1;33m=\u001b[0m \u001b[0mtype_of_target\u001b[0m\u001b[1;33m(\u001b[0m\u001b[0my_pred\u001b[0m\u001b[1;33m)\u001b[0m\u001b[1;33m\u001b[0m\u001b[1;33m\u001b[0m\u001b[0m\n",
      "\u001b[1;32m~\\Anaconda3\\lib\\site-packages\\sklearn\\utils\\validation.py\u001b[0m in \u001b[0;36mcheck_consistent_length\u001b[1;34m(*arrays)\u001b[0m\n\u001b[0;32m    255\u001b[0m     \u001b[1;32mif\u001b[0m \u001b[0mlen\u001b[0m\u001b[1;33m(\u001b[0m\u001b[0muniques\u001b[0m\u001b[1;33m)\u001b[0m \u001b[1;33m>\u001b[0m \u001b[1;36m1\u001b[0m\u001b[1;33m:\u001b[0m\u001b[1;33m\u001b[0m\u001b[1;33m\u001b[0m\u001b[0m\n\u001b[0;32m    256\u001b[0m         raise ValueError(\"Found input variables with inconsistent numbers of\"\n\u001b[1;32m--> 257\u001b[1;33m                          \" samples: %r\" % [int(l) for l in lengths])\n\u001b[0m\u001b[0;32m    258\u001b[0m \u001b[1;33m\u001b[0m\u001b[0m\n\u001b[0;32m    259\u001b[0m \u001b[1;33m\u001b[0m\u001b[0m\n",
      "\u001b[1;31mValueError\u001b[0m: Found input variables with inconsistent numbers of samples: [94, 177]"
     ]
    }
   ],
   "source": [
    "from sklearn.metrics import confusion_matrix\n",
    "\n",
    "#first make new predictions on normalized test data\n",
    "\n",
    "new_predictions = log_reg.predict(normalised_test_df)\n",
    "cm = confusion_matrix(y_true=y_test, y_pred=new_predictions, labels=[\"2A\", \"3A\"])\n",
    "cm"
   ]
  },
  {
   "cell_type": "code",
   "execution_count": 93,
   "metadata": {},
   "outputs": [
    {
     "data": {
      "text/plain": [
       "0      3A\n",
       "3      2A\n",
       "9      3A\n",
       "15     3A\n",
       "16     2A\n",
       "       ..\n",
       "456    2A\n",
       "457    2A\n",
       "468    2A\n",
       "469    2A\n",
       "471    2A\n",
       "Name: qscore, Length: 94, dtype: object"
      ]
     },
     "execution_count": 93,
     "metadata": {},
     "output_type": "execute_result"
    }
   ],
   "source": [
    "y_test"
   ]
  },
  {
   "cell_type": "code",
   "execution_count": 92,
   "metadata": {},
   "outputs": [
    {
     "data": {
      "text/html": [
       "<div>\n",
       "<style scoped>\n",
       "    .dataframe tbody tr th:only-of-type {\n",
       "        vertical-align: middle;\n",
       "    }\n",
       "\n",
       "    .dataframe tbody tr th {\n",
       "        vertical-align: top;\n",
       "    }\n",
       "\n",
       "    .dataframe thead th {\n",
       "        text-align: right;\n",
       "    }\n",
       "</style>\n",
       "<table border=\"1\" class=\"dataframe\">\n",
       "  <thead>\n",
       "    <tr style=\"text-align: right;\">\n",
       "      <th></th>\n",
       "      <th>crop_land</th>\n",
       "      <th>grazing_land</th>\n",
       "      <th>forest_land</th>\n",
       "      <th>fishing_ground</th>\n",
       "      <th>built_up_land</th>\n",
       "      <th>carbon</th>\n",
       "      <th>total</th>\n",
       "      <th>record</th>\n",
       "    </tr>\n",
       "  </thead>\n",
       "  <tbody>\n",
       "    <tr>\n",
       "      <th>0</th>\n",
       "      <td>1.459730e-04</td>\n",
       "      <td>2.656948e-05</td>\n",
       "      <td>7.899390e-04</td>\n",
       "      <td>8.327587e-03</td>\n",
       "      <td>3.636386e-05</td>\n",
       "      <td>0.000000e+00</td>\n",
       "      <td>2.432989e-03</td>\n",
       "      <td>1</td>\n",
       "    </tr>\n",
       "    <tr>\n",
       "      <th>1</th>\n",
       "      <td>1.572175e-09</td>\n",
       "      <td>7.800065e-10</td>\n",
       "      <td>7.020971e-10</td>\n",
       "      <td>8.757429e-09</td>\n",
       "      <td>1.559664e-11</td>\n",
       "      <td>1.015523e-09</td>\n",
       "      <td>3.630815e-09</td>\n",
       "      <td>6</td>\n",
       "    </tr>\n",
       "    <tr>\n",
       "      <th>2</th>\n",
       "      <td>2.264121e-02</td>\n",
       "      <td>1.011864e-02</td>\n",
       "      <td>3.129963e-02</td>\n",
       "      <td>2.322252e-03</td>\n",
       "      <td>4.212081e-02</td>\n",
       "      <td>2.062864e-02</td>\n",
       "      <td>3.151990e-02</td>\n",
       "      <td>5</td>\n",
       "    </tr>\n",
       "    <tr>\n",
       "      <th>3</th>\n",
       "      <td>1.102692e-09</td>\n",
       "      <td>3.772723e-10</td>\n",
       "      <td>1.399090e-09</td>\n",
       "      <td>2.442304e-09</td>\n",
       "      <td>1.386133e-09</td>\n",
       "      <td>7.481189e-10</td>\n",
       "      <td>1.881071e-09</td>\n",
       "      <td>6</td>\n",
       "    </tr>\n",
       "    <tr>\n",
       "      <th>4</th>\n",
       "      <td>1.323791e-09</td>\n",
       "      <td>7.507694e-10</td>\n",
       "      <td>1.984281e-10</td>\n",
       "      <td>2.159073e-11</td>\n",
       "      <td>2.105760e-09</td>\n",
       "      <td>1.882439e-09</td>\n",
       "      <td>1.636882e-09</td>\n",
       "      <td>4</td>\n",
       "    </tr>\n",
       "    <tr>\n",
       "      <th>...</th>\n",
       "      <td>...</td>\n",
       "      <td>...</td>\n",
       "      <td>...</td>\n",
       "      <td>...</td>\n",
       "      <td>...</td>\n",
       "      <td>...</td>\n",
       "      <td>...</td>\n",
       "      <td>...</td>\n",
       "    </tr>\n",
       "    <tr>\n",
       "      <th>172</th>\n",
       "      <td>9.762675e-10</td>\n",
       "      <td>2.531597e-09</td>\n",
       "      <td>1.761949e-09</td>\n",
       "      <td>7.668051e-11</td>\n",
       "      <td>7.513203e-10</td>\n",
       "      <td>8.791687e-11</td>\n",
       "      <td>1.577557e-09</td>\n",
       "      <td>4</td>\n",
       "    </tr>\n",
       "    <tr>\n",
       "      <th>173</th>\n",
       "      <td>8.052630e-10</td>\n",
       "      <td>4.348109e-11</td>\n",
       "      <td>1.444120e-09</td>\n",
       "      <td>1.640823e-09</td>\n",
       "      <td>9.099123e-10</td>\n",
       "      <td>0.000000e+00</td>\n",
       "      <td>1.127834e-09</td>\n",
       "      <td>2</td>\n",
       "    </tr>\n",
       "    <tr>\n",
       "      <th>174</th>\n",
       "      <td>6.251274e-10</td>\n",
       "      <td>1.364615e-10</td>\n",
       "      <td>2.484730e-09</td>\n",
       "      <td>1.499153e-10</td>\n",
       "      <td>1.045331e-09</td>\n",
       "      <td>1.085916e-10</td>\n",
       "      <td>1.082622e-09</td>\n",
       "      <td>4</td>\n",
       "    </tr>\n",
       "    <tr>\n",
       "      <th>175</th>\n",
       "      <td>4.215920e-10</td>\n",
       "      <td>3.444020e-12</td>\n",
       "      <td>1.810148e-10</td>\n",
       "      <td>1.632344e-09</td>\n",
       "      <td>1.639420e-09</td>\n",
       "      <td>9.064177e-09</td>\n",
       "      <td>4.973083e-09</td>\n",
       "      <td>6</td>\n",
       "    </tr>\n",
       "    <tr>\n",
       "      <th>176</th>\n",
       "      <td>1.003584e-02</td>\n",
       "      <td>1.030416e-03</td>\n",
       "      <td>6.290491e-02</td>\n",
       "      <td>2.077051e-02</td>\n",
       "      <td>3.669073e-02</td>\n",
       "      <td>0.000000e+00</td>\n",
       "      <td>2.921533e-02</td>\n",
       "      <td>3</td>\n",
       "    </tr>\n",
       "  </tbody>\n",
       "</table>\n",
       "<p>177 rows × 8 columns</p>\n",
       "</div>"
      ],
      "text/plain": [
       "        crop_land  grazing_land   forest_land  fishing_ground  built_up_land  \\\n",
       "0    1.459730e-04  2.656948e-05  7.899390e-04    8.327587e-03   3.636386e-05   \n",
       "1    1.572175e-09  7.800065e-10  7.020971e-10    8.757429e-09   1.559664e-11   \n",
       "2    2.264121e-02  1.011864e-02  3.129963e-02    2.322252e-03   4.212081e-02   \n",
       "3    1.102692e-09  3.772723e-10  1.399090e-09    2.442304e-09   1.386133e-09   \n",
       "4    1.323791e-09  7.507694e-10  1.984281e-10    2.159073e-11   2.105760e-09   \n",
       "..            ...           ...           ...             ...            ...   \n",
       "172  9.762675e-10  2.531597e-09  1.761949e-09    7.668051e-11   7.513203e-10   \n",
       "173  8.052630e-10  4.348109e-11  1.444120e-09    1.640823e-09   9.099123e-10   \n",
       "174  6.251274e-10  1.364615e-10  2.484730e-09    1.499153e-10   1.045331e-09   \n",
       "175  4.215920e-10  3.444020e-12  1.810148e-10    1.632344e-09   1.639420e-09   \n",
       "176  1.003584e-02  1.030416e-03  6.290491e-02    2.077051e-02   3.669073e-02   \n",
       "\n",
       "           carbon         total  record  \n",
       "0    0.000000e+00  2.432989e-03       1  \n",
       "1    1.015523e-09  3.630815e-09       6  \n",
       "2    2.062864e-02  3.151990e-02       5  \n",
       "3    7.481189e-10  1.881071e-09       6  \n",
       "4    1.882439e-09  1.636882e-09       4  \n",
       "..            ...           ...     ...  \n",
       "172  8.791687e-11  1.577557e-09       4  \n",
       "173  0.000000e+00  1.127834e-09       2  \n",
       "174  1.085916e-10  1.082622e-09       4  \n",
       "175  9.064177e-09  4.973083e-09       6  \n",
       "176  0.000000e+00  2.921533e-02       3  \n",
       "\n",
       "[177 rows x 8 columns]"
      ]
     },
     "execution_count": 92,
     "metadata": {},
     "output_type": "execute_result"
    }
   ],
   "source": [
    "normalised_test_df"
   ]
  },
  {
   "cell_type": "code",
   "execution_count": 94,
   "metadata": {},
   "outputs": [
    {
     "data": {
      "text/plain": [
       "DecisionTreeClassifier()"
      ]
     },
     "execution_count": 94,
     "metadata": {},
     "output_type": "execute_result"
    }
   ],
   "source": [
    "from sklearn.tree import DecisionTreeClassifier\n",
    "dec_tree = DecisionTreeClassifier()\n",
    "dec_tree.fit(normalised_train_df, y_train_balanced)"
   ]
  },
  {
   "cell_type": "code",
   "execution_count": 97,
   "metadata": {},
   "outputs": [
    {
     "data": {
      "text/plain": [
       "array([0.32177502, 0.11212579, 0.10565995, 0.17985651, 0.1738736 ,\n",
       "       0.06319515, 0.02673555, 0.01677843])"
      ]
     },
     "execution_count": 97,
     "metadata": {},
     "output_type": "execute_result"
    }
   ],
   "source": [
    "dec_tree.feature_importances_"
   ]
  },
  {
   "cell_type": "code",
   "execution_count": null,
   "metadata": {},
   "outputs": [],
   "source": []
  }
 ],
 "metadata": {
  "kernelspec": {
   "display_name": "Python 3",
   "language": "python",
   "name": "python3"
  },
  "language_info": {
   "codemirror_mode": {
    "name": "ipython",
    "version": 3
   },
   "file_extension": ".py",
   "mimetype": "text/x-python",
   "name": "python",
   "nbconvert_exporter": "python",
   "pygments_lexer": "ipython3",
   "version": "3.7.7"
  }
 },
 "nbformat": 4,
 "nbformat_minor": 4
}
